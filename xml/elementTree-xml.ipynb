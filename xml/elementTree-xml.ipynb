{
 "cells": [
  {
   "cell_type": "code",
   "execution_count": 28,
   "metadata": {},
   "outputs": [],
   "source": [
    "import xml.etree.ElementTree as ET"
   ]
  },
  {
   "cell_type": "code",
   "execution_count": 29,
   "metadata": {},
   "outputs": [],
   "source": [
    "xmlFile = \"xml_files/example.xml\"\n",
    "\n",
    "tree = ET.parse(xmlFile)\n",
    "root = tree.getroot()"
   ]
  },
  {
   "cell_type": "markdown",
   "metadata": {},
   "source": [
    "### displays the whole xml file\n"
   ]
  },
  {
   "cell_type": "code",
   "execution_count": 30,
   "metadata": {},
   "outputs": [
    {
     "name": "stdout",
     "output_type": "stream",
     "text": [
      "<catalog>\n",
      "    <book id=\"bk101\">\n",
      "        <author>Gambardella, Matthew\n",
      "            <surname>Robbins</surname>\n",
      "        </author>\n",
      "        <title>XML Developer's Guide</title>\n",
      "        <genre>Computer</genre>\n",
      "        <price>44.95</price>\n",
      "        <publish_date>2000-10-01</publish_date>\n",
      "        <description>An in-depth look at creating applications\n",
      "            with XML.</description>\n",
      "    </book>\n",
      "    <book id=\"bk102\">\n",
      "        <author>Meta, Bob</author>\n",
      "        <title>Midnight Rain</title>\n",
      "        <genre>Fantasy</genre>\n",
      "        <price>5.95</price>\n",
      "        <publish_date>2000-12-16</publish_date>\n",
      "        <description>A former architect battles corporate zombies,\n",
      "            an evil sorceress, and her own childhood to become queen\n",
      "            of the world.</description>\n",
      "    </book>\n",
      "    <book id=\"bk103\">\n",
      "        <author>Corets, Eva</author>\n",
      "        <title>Maeve Ascendant</title>\n",
      "        <genre>Fantasy</genre>\n",
      "        <price>5.95</price>\n",
      "        <publish_date>2000-11-17</publish_date>\n",
      "        <description>After the collapse of a nanotechnology\n",
      "            society in England, the young survivors lay the\n",
      "            foundation for a new society.</description>\n",
      "    </book>\n",
      "    <book id=\"bk104\">\n",
      "        <author>Corets, Eva</author>\n",
      "        <title>Oberon's Legacy</title>\n",
      "        <genre>Fantasy</genre>\n",
      "        <price>5.95</price>\n",
      "        <publish_date>2001-03-10</publish_date>\n",
      "        <description>In post-apocalypse England, the mysterious\n",
      "            agent known only as Oberon helps to create a new life\n",
      "            for the inhabitants of London. Sequel to Maeve\n",
      "            Ascendant.</description>\n",
      "    </book>\n",
      "</catalog>\n"
     ]
    }
   ],
   "source": [
    "ET.dump(tree)"
   ]
  },
  {
   "cell_type": "markdown",
   "metadata": {},
   "source": [
    "### Displays all the tags under the parent tag 'book' with the id 'bk102'\n"
   ]
  },
  {
   "cell_type": "code",
   "execution_count": 3,
   "metadata": {},
   "outputs": [
    {
     "name": "stdout",
     "output_type": "stream",
     "text": [
      "author\n",
      "title\n",
      "genre\n",
      "price\n",
      "publish_date\n",
      "description\n"
     ]
    }
   ],
   "source": [
    "for elm in root.findall(\"./book[@id='bk102']/\"):\n",
    "    print(elm.tag)"
   ]
  },
  {
   "cell_type": "markdown",
   "metadata": {},
   "source": [
    "### Displays the all the attributes of 'book' tag with id 'bk102'\n"
   ]
  },
  {
   "cell_type": "code",
   "execution_count": 5,
   "metadata": {},
   "outputs": [
    {
     "name": "stdout",
     "output_type": "stream",
     "text": [
      "{'id': 'bk102'}\n"
     ]
    }
   ],
   "source": [
    "for elm in root.findall(\"./book[@id='bk102']\"):\n",
    "    print(elm.attrib)"
   ]
  },
  {
   "cell_type": "markdown",
   "metadata": {},
   "source": [
    "### Displays author of the book\n"
   ]
  },
  {
   "cell_type": "code",
   "execution_count": 6,
   "metadata": {},
   "outputs": [
    {
     "name": "stdout",
     "output_type": "stream",
     "text": [
      "Dall, E\n"
     ]
    }
   ],
   "source": [
    "for elm in root.findall(\"./book[@id='bk102']/author\"):\n",
    "    print(elm.text)"
   ]
  },
  {
   "cell_type": "markdown",
   "metadata": {},
   "source": [
    "### This code changes the value of author for book with ID bk102\n"
   ]
  },
  {
   "cell_type": "code",
   "execution_count": 4,
   "metadata": {},
   "outputs": [
    {
     "name": "stdout",
     "output_type": "stream",
     "text": [
      "Meta, Bob\n"
     ]
    }
   ],
   "source": [
    "# This code changes the value of author for book with ID bk102\n",
    "for elm in root.findall(\"./book[@id='bk102']/author\"):\n",
    "    elm.text = \"Meta, Bob\"\n",
    "    print(elm.text)\n",
    "    tree.write(\"xml_files/example.xml\")"
   ]
  },
  {
   "cell_type": "markdown",
   "metadata": {},
   "source": [
    "### Saving the titles as a list\n"
   ]
  },
  {
   "cell_type": "code",
   "execution_count": 5,
   "metadata": {},
   "outputs": [
    {
     "name": "stdout",
     "output_type": "stream",
     "text": [
      "[\"XML Developer's Guide\", 'Midnight Rain', 'Maeve Ascendant', \"Oberon's Legacy\", 'The Sundered Grail', 'Lover Birds', 'Splish Splash', 'Creepy Crawlies', 'Paradox Lost', 'Microsoft .NET: The Programming Bible', 'MSXML3: A Comprehensive Guide', 'Visual Studio 7: A Comprehensive Guide', 'Wings of Fire']\n"
     ]
    }
   ],
   "source": [
    "titles = []\n",
    "for title in root.findall(\"./book/title\"):\n",
    "    titles.append(title.text)\n",
    "\n",
    "print(titles)"
   ]
  },
  {
   "cell_type": "markdown",
   "metadata": {},
   "source": [
    "### Extracts all the attributes of the 'book' tag\n"
   ]
  },
  {
   "cell_type": "code",
   "execution_count": 15,
   "metadata": {},
   "outputs": [
    {
     "name": "stdout",
     "output_type": "stream",
     "text": [
      "bk101\n",
      "bk102\n",
      "bk103\n",
      "bk104\n"
     ]
    }
   ],
   "source": [
    "for elm in root.findall(\"./book\"):\n",
    "    print(elm.attrib[\"id\"])"
   ]
  },
  {
   "cell_type": "markdown",
   "metadata": {},
   "source": [
    "### Add attributes to a new tag"
   ]
  },
  {
   "cell_type": "code",
   "execution_count": 26,
   "metadata": {},
   "outputs": [],
   "source": [
    "time = [\"30 hrs\", \"45 hrs\", \"15 hrs\", \"67 hrs\"]\n",
    "\n",
    "i = 0\n",
    "new_node = ET.Element(\"read_time\")\n",
    "for elm in root.findall(\"./book\"):\n",
    "    ET.SubElement(elm, \"time\", attrib={\"read\": time[i]})\n",
    "    i += 1\n",
    "\n",
    "tree.write(\"./xml_files/example.xml\")"
   ]
  },
  {
   "cell_type": "markdown",
   "metadata": {},
   "source": [
    "### Add new tag elements within parent tag"
   ]
  },
  {
   "cell_type": "code",
   "execution_count": 31,
   "metadata": {},
   "outputs": [],
   "source": [
    "time = [\"30 hrs\", \"45 hrs\", \"15 hrs\", \"67 hrs\"]\n",
    "\n",
    "i=0\n",
    "\n",
    "for elm in root.findall('.//book'):\n",
    "    # creating time tag\n",
    "    time_tag = ET.Element('time')\n",
    "    # adding value to that tag\n",
    "    time_tag.text = time[i]\n",
    "    # appending it to the element\n",
    "    elm.append(time_tag)\n",
    "    i+=1\n",
    "\n",
    "tree.write(\"./xml_files/example.xml\")"
   ]
  },
  {
   "cell_type": "code",
   "execution_count": 34,
   "metadata": {},
   "outputs": [
    {
     "name": "stdout",
     "output_type": "stream",
     "text": [
      "{'bk101': [(\"XML Developer's Guide\", 'Computer')], 'bk102': [('Midnight Rain', 'Fantasy')], 'bk103': [('Maeve Ascendant', 'Fantasy')], 'bk104': [(\"Oberon's Legacy\", 'Fantasy')]}\n"
     ]
    }
   ],
   "source": [
    "books = {}\n",
    "for elm in root:\n",
    "    book_id = elm.attrib['id']\n",
    "    books[book_id] = []\n",
    "    for vals in elm:\n",
    "        if vals.tag == 'title':\n",
    "            title = vals.text\n",
    "        if vals.tag == 'genre':\n",
    "            genre = vals.text\n",
    "    books[book_id].append((title, genre))\n",
    "\n",
    "print(books)"
   ]
  }
 ],
 "metadata": {
  "kernelspec": {
   "display_name": "Python 3",
   "language": "python",
   "name": "python3"
  },
  "language_info": {
   "codemirror_mode": {
    "name": "ipython",
    "version": 3
   },
   "file_extension": ".py",
   "mimetype": "text/x-python",
   "name": "python",
   "nbconvert_exporter": "python",
   "pygments_lexer": "ipython3",
   "version": "3.11.8"
  }
 },
 "nbformat": 4,
 "nbformat_minor": 2
}
