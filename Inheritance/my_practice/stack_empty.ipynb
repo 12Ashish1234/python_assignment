{
 "cells": [
  {
   "cell_type": "code",
   "execution_count": 1,
   "metadata": {},
   "outputs": [],
   "source": [
    "class StackEmpty(RuntimeError):\n",
    "    def __init__(self):\n",
    "        super(StackEmpty, self).__init__(\"pop() on empty stack\")"
   ]
  },
  {
   "cell_type": "code",
   "execution_count": 7,
   "metadata": {},
   "outputs": [],
   "source": [
    "class Stack:\n",
    "    def __init__(self):\n",
    "        self.stk = []\n",
    "\n",
    "    def push(self, v):\n",
    "        self.stk.append(v)\n",
    "\n",
    "    def pop(self):\n",
    "        if len(self.stk) == 0:\n",
    "            raise StackEmpty()\n",
    "        else:\n",
    "            return self.stk.pop()"
   ]
  },
  {
   "cell_type": "code",
   "execution_count": 9,
   "metadata": {},
   "outputs": [
    {
     "name": "stdout",
     "output_type": "stream",
     "text": [
      "7\n",
      "45\n",
      "34\n",
      "pop() on empty stack\n"
     ]
    }
   ],
   "source": [
    "try:\n",
    "    s = Stack()\n",
    "    s.push(34)\n",
    "    s.push(45)\n",
    "    s.push(7)\n",
    "    print(s.pop())\n",
    "    print(s.pop())\n",
    "    print(s.pop())\n",
    "    print(s.pop())\n",
    "    print(s.pop())\n",
    "except StackEmpty as e:\n",
    "    print(e)"
   ]
  }
 ],
 "metadata": {
  "kernelspec": {
   "display_name": "Python 3",
   "language": "python",
   "name": "python3"
  },
  "language_info": {
   "codemirror_mode": {
    "name": "ipython",
    "version": 3
   },
   "file_extension": ".py",
   "mimetype": "text/x-python",
   "name": "python",
   "nbconvert_exporter": "python",
   "pygments_lexer": "ipython3",
   "version": "3.11.8"
  }
 },
 "nbformat": 4,
 "nbformat_minor": 2
}
