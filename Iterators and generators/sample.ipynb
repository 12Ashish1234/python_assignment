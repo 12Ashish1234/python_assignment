{
 "cells": [
  {
   "cell_type": "code",
   "execution_count": null,
   "metadata": {},
   "outputs": [],
   "source": [
    "import random\n",
    "import time\n",
    "import memory_profiler"
   ]
  },
  {
   "cell_type": "code",
   "execution_count": null,
   "metadata": {},
   "outputs": [],
   "source": [
    "NAMES = [\"John\", \"Harry\", \"Tony\", \"Natalie\", \"Pepper\", \"Arthur\"]\n",
    "BU = [\"Mfg\", \"Retail\", \"ENU\", \"Comm\", \"BAS\"]\n",
    "print(\"LOG 1:Memory usage in MB\", memory_profiler.memory_usage())"
   ]
  },
  {
   "cell_type": "code",
   "execution_count": null,
   "metadata": {},
   "outputs": [],
   "source": [
    "def people_list(num_people):\n",
    "    result = []\n",
    "    for i in range(num_people):\n",
    "        person = {\"id\": i, \"name\": random.choice(NAMES), \"bu\": random.choice(BU)}\n",
    "        result.append(person)\n",
    "    return"
   ]
  },
  {
   "cell_type": "code",
   "execution_count": null,
   "metadata": {},
   "outputs": [],
   "source": [
    "t1 = time.perf_counter()\n",
    "people = people_list(1000000)\n",
    "t2 = time.perf_counter()\n",
    "print(\"Time elapsed is: \", t2 - t1)\n",
    "print(\"LOG 2:Memory usage in MB\", memory_profiler.memory_usage())"
   ]
  },
  {
   "cell_type": "markdown",
   "metadata": {},
   "source": [
    "### Now trying with Generator"
   ]
  },
  {
   "cell_type": "code",
   "execution_count": null,
   "metadata": {},
   "outputs": [],
   "source": [
    "def people_list_gen(num_people):\n",
    "    for i in range(num_people):\n",
    "        person = {\"id\": i, \"name\": random.choice(NAMES), \"bu\": random.choice(BU)}\n",
    "        yield person"
   ]
  },
  {
   "cell_type": "code",
   "execution_count": null,
   "metadata": {},
   "outputs": [],
   "source": [
    "t1 = time.perf_counter()\n",
    "people = people_list_gen(1000000)\n",
    "# next(people)\n",
    "t2 = time.perf_counter()\n",
    "\n",
    "list_x = []\n",
    "for p in people:\n",
    "    list_x.append(p)\n",
    "\n",
    "# print(\"Time elapsed is: \", t2 - t1)\n",
    "# print(\"LOG 2:Memory usage in MB\", memory_profiler.memory_usage())"
   ]
  }
 ],
 "metadata": {
  "kernelspec": {
   "display_name": "Python 3",
   "language": "python",
   "name": "python3"
  },
  "language_info": {
   "codemirror_mode": {
    "name": "ipython",
    "version": 3
   },
   "file_extension": ".py",
   "mimetype": "text/x-python",
   "name": "python",
   "nbconvert_exporter": "python",
   "pygments_lexer": "ipython3",
   "version": "3.11.8"
  }
 },
 "nbformat": 4,
 "nbformat_minor": 2
}
