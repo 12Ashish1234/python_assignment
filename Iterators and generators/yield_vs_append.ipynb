{
 "cells": [
  {
   "cell_type": "code",
   "execution_count": null,
   "metadata": {},
   "outputs": [],
   "source": [
    "import time\n",
    "import memory_profiler"
   ]
  },
  {
   "cell_type": "code",
   "execution_count": null,
   "metadata": {},
   "outputs": [],
   "source": [
    "data = range(100000000)\n",
    "\n",
    "def yielding():\n",
    "    def yielder():\n",
    "        for d in data:\n",
    "            yield d\n",
    "    return list(yielder())\n",
    "\n",
    "def appending():\n",
    "    lst = []\n",
    "    for d in data:\n",
    "        lst.append(d)\n",
    "    return lst"
   ]
  },
  {
   "cell_type": "code",
   "execution_count": null,
   "metadata": {},
   "outputs": [],
   "source": [
    "t1 = time.perf_counter()\n",
    "ls_x = yielding()\n",
    "t2 = time.perf_counter()\n",
    "\n",
    "print(\"Time elapsed is: \", t2 - t1)\n",
    "print(\"LOG 2:Memory usage in MB\", memory_profiler.memory_usage())"
   ]
  },
  {
   "cell_type": "code",
   "execution_count": null,
   "metadata": {},
   "outputs": [],
   "source": [
    "t1 = time.perf_counter()\n",
    "ls_x = appending()\n",
    "t2 = time.perf_counter()\n",
    "\n",
    "print(\"Time elapsed is: \", t2 - t1)\n",
    "print(\"LOG 2:Memory usage in MB\", memory_profiler.memory_usage())"
   ]
  }
 ],
 "metadata": {
  "kernelspec": {
   "display_name": "Python 3",
   "language": "python",
   "name": "python3"
  },
  "language_info": {
   "codemirror_mode": {
    "name": "ipython",
    "version": 3
   },
   "file_extension": ".py",
   "mimetype": "text/x-python",
   "name": "python",
   "nbconvert_exporter": "python",
   "pygments_lexer": "ipython3",
   "version": "3.11.8"
  }
 },
 "nbformat": 4,
 "nbformat_minor": 2
}
